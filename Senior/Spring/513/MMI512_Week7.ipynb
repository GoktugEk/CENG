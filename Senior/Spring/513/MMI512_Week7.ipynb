{
  "nbformat": 4,
  "nbformat_minor": 0,
  "metadata": {
    "colab": {
      "provenance": []
    },
    "kernelspec": {
      "name": "python3",
      "display_name": "Python 3"
    },
    "language_info": {
      "name": "python"
    }
  },
  "cells": [
    {
      "cell_type": "markdown",
      "source": [
        "# **Week 7: Path finding**\n",
        "\n",
        "- In this notebook, we will explore several algorithms for finding a path between two points in a graph or map. We will cover Douglas-Peucker algorithm, Seidel's algorithm, and Hertel-Mehlhorn Convex Partitioning.\n",
        "\n",
        "- We will be leaving the implementation of Algorithm A* as a programming assignment for you to complete. This will allow you to put your knowledge and skills to the test and reinforce your understanding of the concepts we've covered."
      ],
      "metadata": {
        "id": "NQs0YkPSjXAG"
      }
    },
    {
      "cell_type": "markdown",
      "source": [
        "## Preamble"
      ],
      "metadata": {
        "id": "46x7g8oWjKFT"
      }
    },
    {
      "cell_type": "code",
      "execution_count": null,
      "metadata": {
        "id": "FRXdwtmMjSjn"
      },
      "outputs": [],
      "source": [
        "import numpy as np\n",
        "import matplotlib.pyplot as plt\n",
        "from skimage.measure import find_contours\n",
        "import math\n",
        "import scipy.spatial as spat\n",
        "from shapely import MultiPoint, Polygon, LineString\n",
        "from shapely.ops import triangulate"
      ]
    },
    {
      "cell_type": "markdown",
      "source": [
        "## Douglas-Peucker Algorithm"
      ],
      "metadata": {
        "id": "rLsC6VazjSM3"
      }
    },
    {
      "cell_type": "markdown",
      "source": [
        "- Douglas-Peucker is an algorithm used to simplify a polygonal curve, reducing the number of points needed to represent it while still preserving its overall shape. It works by recursively dividing the curve into smaller segments and calculating the distance of each intermediate point to the straight line between the first and last point of the segment. If the distance is greater than a predefined tolerance, then the point furthest from the straight line is added to the final simplified curve. This process is repeated until no points exceed the tolerance, resulting in a polygon with fewer points that still represents the original curve to a desired level of detail.\n",
        "\n",
        "- `plotpoly` function plots a given polygon\n",
        "- `bitmaptopoly` function takes an image as input and converts it into a polygon using the Douglas-Peucker algorithm. \n",
        "- `douglas_peucker` function takes a list of points and a tolerance value and returns a simplified polygon using the Douglas-Peucker algorithm. \n",
        "\n",
        "- The code also includes helper functions to calculate the distance between a point and a line segment, and a recursive function to simplify the curve."
      ],
      "metadata": {
        "id": "-Z_FGUYepb-P"
      }
    },
    {
      "cell_type": "code",
      "source": [
        "def plotpoly(poly, flag=True):\n",
        "    fig, ax = plt.subplots()\n",
        "    if flag:\n",
        "      ax.plot(poly[:, 1], poly[:, 0], 'o-r', linewidth=2)\n",
        "    else:\n",
        "      ax.plot(poly[:, 0], poly[:, 1], 'o-r', linewidth=2)\n",
        "      ax.plot([poly[-1, 0], poly[0, 0]], [poly[-1, 1], poly[0,1]], 'o-r', linewidth=2)\n",
        "    return ax\n",
        "\n",
        "def bitmaptopoly(PATH, plotflag=False):\n",
        "  # Load the image and convert it to grayscale\n",
        "  image = plt.imread(PATH)\n",
        "  binaryimage = np.round(image / 255)\n",
        "  # We are using find_contours from skimage.measure\n",
        "  contours = find_contours(binaryimage, 0.5)\n",
        "  # Get the largest \n",
        "  contour = max(contours, key=len)\n",
        "  # Convert to list and then to a numpy array\n",
        "  polygon = contour.tolist()[:-1]\n",
        "  # If you want to plot it, plot it\n",
        "  if plotflag:\n",
        "    poly = np.array(polygon)\n",
        "    ax = plotpoly(poly)\n",
        "    ax.imshow(image, cmap='gray')\n",
        "    plt.show()\n",
        "  return polygon\n",
        "\n",
        "def douglas_peucker(points, tolerance):\n",
        "    # Initialize list of points to keep\n",
        "    keep = [points[0], points[-1]]\n",
        "\n",
        "    # Recursive function to simplify the curve\n",
        "    def simplify_recursive(start, end):\n",
        "        # Calculate maximum distance from points[start] to points[end]\n",
        "        max_dist = 0\n",
        "        max_index = start\n",
        "        for i in range(start + 1, end):\n",
        "            dist = distance_to_line(points[start], points[end], points[i])\n",
        "            if dist > max_dist:\n",
        "                max_dist = dist\n",
        "                max_index = i\n",
        "\n",
        "        # If the maximum distance is greater than the tolerance, add the point and recursively simplify the two segments\n",
        "        if max_dist > tolerance:\n",
        "            keep.append(points[max_index])\n",
        "            simplify_recursive(start, max_index)\n",
        "            simplify_recursive(max_index, end)\n",
        "\n",
        "    # Calculate the distance from a point to a line segment\n",
        "    def distance_to_line(p1, p2, p3):\n",
        "        x1, y1 = p1\n",
        "        x2, y2 = p2\n",
        "        x3, y3 = p3\n",
        "        px = x2 - x1\n",
        "        py = y2 - y1\n",
        "        something = px * px + py * py\n",
        "        u = ((x3 - x1) * px + (y3 - y1) * py) / float(something)\n",
        "        if u > 1:\n",
        "            u = 1\n",
        "        elif u < 0:\n",
        "            u = 0\n",
        "        x = x1 + u * px\n",
        "        y = y1 + u * py\n",
        "        dx = x - x3\n",
        "        dy = y - y3\n",
        "        dist = math.sqrt(dx * dx + dy * dy)\n",
        "        return dist\n",
        "\n",
        "    # Simplify the curve recursively\n",
        "    simplify_recursive(0, len(points) - 1)\n",
        "\n",
        "    kpfinal = [] # Input poly in in CCW order but keep is not. We'll put that in CCW order\n",
        "    for pt in points:\n",
        "      if pt in keep:\n",
        "        kpfinal.append(pt)\n",
        "\n",
        "    # Return the simplified polygon in CCW order\n",
        "    return kpfinal\n"
      ],
      "metadata": {
        "id": "g1LQ7xDKjWe6"
      },
      "execution_count": null,
      "outputs": []
    },
    {
      "cell_type": "markdown",
      "source": [
        "## **Testing Code** ✅"
      ],
      "metadata": {
        "id": "v7rq1fb0qCMI"
      }
    },
    {
      "cell_type": "markdown",
      "source": [
        "- Let us first load a bitmapped version of Ankara map and convert it to a polygon."
      ],
      "metadata": {
        "id": "QJDfrustqI6V"
      }
    },
    {
      "cell_type": "code",
      "source": [
        "PATH = './drive/MyDrive/ankarabinary.jpg'\n",
        "poly = bitmaptopoly(PATH, True)"
      ],
      "metadata": {
        "colab": {
          "base_uri": "https://localhost:8080/",
          "height": 269
        },
        "id": "2yMFvtiTmEjn",
        "outputId": "6ec51de1-8bd7-47d1-c401-01f3ee0ce0bb"
      },
      "execution_count": null,
      "outputs": [
        {
          "output_type": "display_data",
          "data": {
            "text/plain": [
              "<Figure size 432x288 with 1 Axes>"
            ],
            "image/png": "[encoded data removed]"
          },
          "metadata": {
            "needs_background": "light"
          }
        }
      ]
    },
    {
      "cell_type": "markdown",
      "source": [
        "- Let us now test Douglas-Peucker algorithm to convert our map to a simplified polygon"
      ],
      "metadata": {
        "id": "HiOLrC91qS2T"
      }
    },
    {
      "cell_type": "code",
      "source": [
        "# Test the function with a sample curve\n",
        "image = plt.imread(PATH)\n",
        "tolerance = 1\n",
        "simplified = douglas_peucker(poly, 10)\n",
        "simp = np.array(simplified)\n",
        "ax = plotpoly(simp)\n",
        "ax.imshow(image, cmap='gray')"
      ],
      "metadata": {
        "colab": {
          "base_uri": "https://localhost:8080/",
          "height": 286
        },
        "id": "mwF2Cr6Uj8GG",
        "outputId": "d1a2763b-8fed-44b0-bee5-c97ea1695637"
      },
      "execution_count": null,
      "outputs": [
        {
          "output_type": "execute_result",
          "data": {
            "text/plain": [
              "<matplotlib.image.AxesImage at 0x7f3aba848370>"
            ]
          },
          "metadata": {},
          "execution_count": 242
        },
        {
          "output_type": "display_data",
          "data": {
            "text/plain": [
              "<Figure size 432x288 with 1 Axes>"
            ],
            "image/png": "[encoded data removed]"
          },
          "metadata": {
            "needs_background": "light"
          }
        }
      ]
    },
    {
      "cell_type": "markdown",
      "source": [
        "## Seidel's algorithm"
      ],
      "metadata": {
        "id": "BAJuNL0eqacy"
      }
    },
    {
      "cell_type": "markdown",
      "source": [
        "- Seidel's triangulation algorithm is a method used to triangulate a set of points in a 2D plane. Triangulation is the process of dividing a set of points into triangles such that no two triangles intersect.\n",
        "\n",
        "- The algorithm starts by sorting the points along the x-axis and then creating a vertical line that divides the points into two sets. The algorithm recursively applies itself to each of the two sets until each set contains only two or three points. Then, the algorithm merges the two sets by finding the upper and lower common tangent lines between them, and removes the points in between. The algorithm continues to recursively apply itself to the left and right halves of the remaining points until the entire set is triangulated."
      ],
      "metadata": {
        "id": "FuNQMZ4Lqm8T"
      }
    },
    {
      "cell_type": "code",
      "source": [
        "def seidel_trig(points):\n",
        "    def orientation(p1, p2, p3):\n",
        "        \"\"\"Compute the orientation of the triplet (p1, p2, p3)\n",
        "        Returns:\n",
        "            >0 if the triplet is counter-clockwise\n",
        "            =0 if the triplet is collinear\n",
        "            <0 if the triplet is clockwise\n",
        "        \"\"\"\n",
        "        # Define three vectors\n",
        "        p1p = np.array([p1[0], p1[1], 0.])\n",
        "        p2p = np.array([p2[0], p2[1], 0.])\n",
        "        p3p = np.array([p3[0], p3[1], 0.])\n",
        "        # Define differences\n",
        "        p12 = p2p - p1p\n",
        "        p23 = p3p - p2p\n",
        "        # Take the cross product\n",
        "        cv = np.cross(p12, p23)\n",
        "        return cv[2]\n",
        "\n",
        "    def is_ear(i, n, points):\n",
        "        p1 = points[(i-1) % n]\n",
        "        p2 = points[i % n]\n",
        "        p3 = points[(i+1) % n]\n",
        "        if orientation(p1, p2, p3) <= 0:\n",
        "            # The triangle is not counter-clockwise, so it's not an ear\n",
        "            return False\n",
        "        for j in range(n):\n",
        "            if j == i % n or j == (i-1) % n or j == (i+1) % n:\n",
        "                continue\n",
        "            p = points[j]\n",
        "            if (p[0] > min(p1[0], p2[0]) and p[0] < max(p1[0], p2[0]) and\n",
        "                    p[1] > min(p1[1], p2[1]) and p[1] < max(p1[1], p2[1])):\n",
        "                # The point is inside the triangle, so it's not an ear\n",
        "                return False\n",
        "        return True\n",
        "\n",
        "    n = len(points)\n",
        "    triangulation = []\n",
        "    edges = set()\n",
        "    edgepoly = set()\n",
        "    vertices = points\n",
        "\n",
        "    for ind in range(n-1):\n",
        "      e = (ind, ind+1)\n",
        "      edgepoly = edgepoly.union({e})\n",
        "      edgepoly = edgepoly.union({(n-1,0)})\n",
        "    \n",
        "    while n > 3:\n",
        "      for i in range(n):\n",
        "          if is_ear(i, n, points):\n",
        "              #triangulation.append(((i-1) % n, i % n, (i+1) % n))\n",
        "              triangulation.append((points[(i-1) % n,:], points[i % n,:], points[(i+1) % n,:]))\n",
        "              ind1 = np.where((vertices == points[(i-1) % n,:]).all(axis=1))[0][0]\n",
        "              ind2 = np.where((vertices == points[i % n,:]).all(axis=1))[0][0]\n",
        "              ind3 = np.where((vertices == points[(i+1) % n,:]).all(axis=1))[0][0]\n",
        "              # e1 = (ind1, ind2)\n",
        "              # e2 = (ind2, ind3)\n",
        "              e = (ind3, ind1)\n",
        "              edges = edges.union({e})\n",
        "              points = np.delete(points, i, 0)\n",
        "              n -= 1\n",
        "              break\n",
        "              \n",
        "    triangulation.append((points[0], points[1], points[2]))\n",
        "    ind1 = np.where((vertices == points[0,:]).all(axis=1))[0][0]\n",
        "    ind2 = np.where((vertices == points[1,:]).all(axis=1))[0][0]\n",
        "    ind3 = np.where((vertices == points[2,:]).all(axis=1))[0][0]\n",
        "    # e1 = (ind1, ind2)\n",
        "    # e2 = (ind2, ind3)\n",
        "    e = (ind3, ind1)\n",
        "    edges = edges.union({e})\n",
        "    return triangulation, edges, vertices, edgepoly\n",
        "\n",
        "def plottrig(ax, trig, sflag = False):\n",
        "  trg = []\n",
        "  ind1, ind2 = 0, 1\n",
        "  if sflag:\n",
        "    ind1, ind2 = 1, 0\n",
        "  for item in trig:\n",
        "    trg.append([item[ind1], item[ind2]])\n",
        "  ax.add_patch(plt.Polygon(trg, edgecolor='k'))  # create a polygon patch\n",
        "  return ax\n"
      ],
      "metadata": {
        "id": "yvaDqVwJlzfl"
      },
      "execution_count": null,
      "outputs": []
    },
    {
      "cell_type": "markdown",
      "source": [
        "## **Testing code** ✅"
      ],
      "metadata": {
        "id": "-aOJ9y9nrBOX"
      }
    },
    {
      "cell_type": "markdown",
      "source": [
        "- Let us try it with the Ankara map first"
      ],
      "metadata": {
        "id": "gYCWYwhgrGFk"
      }
    },
    {
      "cell_type": "code",
      "source": [
        "trigs, edges, vertices, edgepoly = seidel_trig(simp)\n",
        "fig, ax = plt.subplots()\n",
        "\n",
        "for trig in trigs:\n",
        "  ax = plottrig(ax, trig, sflag=True)\n",
        "\n",
        "ax.set_aspect('equal')\n",
        "plt.xlim(0, 340)\n",
        "plt.ylim(0, 340)\n",
        "ax.invert_yaxis()\n",
        "plt.show()\n",
        "print(edges)"
      ],
      "metadata": {
        "id": "dt4jYqjb0o19",
        "colab": {
          "base_uri": "https://localhost:8080/",
          "height": 306
        },
        "outputId": "8790350e-b947-41b8-aff0-98585acd3613"
      },
      "execution_count": null,
      "outputs": [
        {
          "output_type": "display_data",
          "data": {
            "text/plain": [
              "<Figure size 432x288 with 1 Axes>"
            ],
            "image/png": "[encoded data removed]"
          },
          "metadata": {
            "needs_background": "light"
          }
        },
        {
          "output_type": "stream",
          "name": "stdout",
          "text": [
            "{(1, 28), (20, 11), (21, 10), (23, 10), (24, 10), (6, 4), (15, 13), (10, 28), (10, 26), (26, 10), (2, 28), (10, 6), (8, 6), (20, 18), (13, 11), (6, 28), (25, 10), (16, 13), (10, 27), (9, 6), (4, 28), (17, 13), (4, 2), (20, 10), (23, 21), (17, 11), (18, 11)}\n"
          ]
        }
      ]
    },
    {
      "cell_type": "markdown",
      "source": [
        "- Let us now define a simple room geometry as a polygon and try it on this polygon."
      ],
      "metadata": {
        "id": "RWGA1oj9rKCL"
      }
    },
    {
      "cell_type": "code",
      "source": [
        "simproom = np.array([[0,0], [3,0], [3,2], [4,2], [4,0], [5,0], [5,2], [7,2], [7,0], [12,0], [12,7], [7,7], [7,5], [3,5], [3, 7], [0,7]], dtype=float)\n",
        "trigs, edges, vertices, edgepoly = seidel_trig(simproom)\n",
        "fig, ax = plt.subplots()\n",
        "\n",
        "for trig in trigs:\n",
        "  ax = plottrig(ax, trig)\n",
        "\n",
        "ax.set_aspect('equal')\n",
        "plt.xlim(0, 13)\n",
        "plt.ylim(0, 8)\n",
        "plt.show()\n",
        "\n",
        "print(len(vertices))"
      ],
      "metadata": {
        "colab": {
          "base_uri": "https://localhost:8080/",
          "height": 275
        },
        "id": "MApk3CKywbHl",
        "outputId": "04021dca-66fb-4f84-c01c-04f2a19dbb40"
      },
      "execution_count": null,
      "outputs": [
        {
          "output_type": "display_data",
          "data": {
            "text/plain": [
              "<Figure size 432x288 with 1 Axes>"
            ],
            "image/png": "[encoded data removed]"
          },
          "metadata": {
            "needs_background": "light"
          }
        },
        {
          "output_type": "stream",
          "name": "stdout",
          "text": [
            "16\n"
          ]
        }
      ]
    },
    {
      "cell_type": "markdown",
      "source": [
        "# Hertel-Mehlhorn Convex Partitioning\n",
        "\n",
        "- Hertel-Mehlhorn Convex Partitioning is an algorithm for partitioning a convex polygon into smaller convex pieces. The idea is to recursively divide the polygon into smaller triangles until the triangles are small enough. \n",
        "\n",
        "1. We will only check reflex vertices\n",
        "2. We need to know all edges emanating from a vertex\n",
        "3. We will check if an edge *connected* to a vertex, when removed would result in the generation of a non-convex angle at that vertex. If so, it is non-essential and can be removed\n",
        "\n",
        "In the implementation below, the algorithm first uses the Seidel's Triangulation algorithm to triangulate the polygon into triangles. Then, for each edge in the triangulation, it checks if the edge is an \"essential edge\", i.e., removing the edge will change the convexity of the polygon. If an edge is not essential, it removes the edge and its reverse from the triangulation.\n",
        "\n",
        "The function `isessential()` checks if an edge is essential for a given vertex by checking if removing the edge changes the orientation of the edges around the vertex. The function `hertel_mehlhorn()` takes a polygon represented as a list of CCW-ordered points and returns a set of edges that form the partitioned convex sub-polygons."
      ],
      "metadata": {
        "id": "QsI7bZo6RjZ-"
      }
    },
    {
      "cell_type": "code",
      "source": [
        "def isconvex(v1, v2):\n",
        "  return np.cross(v1, v2)[2] > 0\n",
        "\n",
        "def isvertexconvex(vertices, vindex):\n",
        "  n = len(vertices)\n",
        "  p0 = vertices[vindex % n]\n",
        "  p1 = vertices[(vindex - 1) % n]\n",
        "  p2 = vertices[(vindex + 1) % n]\n",
        "  vp = p2 - p0\n",
        "  vn = p1 - p0\n",
        "  vpp = np.array([vp[0], vp[1], 0.])\n",
        "  vnp = np.array([vn[0], vn[1], 0.])\n",
        "  return isconvex(vpp, vnp)\n",
        "\n",
        "def edgesfromvertex(edges, vindex):\n",
        "  vertexedges = []\n",
        "  for edge in edges:\n",
        "    if vindex in edge: # If either the start of end point for an edge\n",
        "      if vindex == edge[1]:\n",
        "        edge = (edge[1], edge[0])\n",
        "      vertexedges.append(edge)\n",
        "  return vertexedges\n",
        "\n",
        "def alledges(edgepoly, edges):\n",
        "  return edgepoly.union(edges)\n",
        "\n",
        "def edgetovector(vertices, vindex, edge):\n",
        "  pt1, pt2 = vertices[edge[0]], vertices[edge[1]]\n",
        "  vect = pt2 - pt1\n",
        "  if vindex == edge[1]:\n",
        "    vect *= -1\n",
        "  return vect\n",
        "\n",
        "def ccw_order(vertices, vind, edges):\n",
        "  origin = [vertices[vind,0], vertices[vind,1]] # Assuming vectors are relative to the origin\n",
        "  edges.sort(key=lambda e: math.atan2(vertices[e[1],1] - origin[1], vertices[e[1],0] - origin[0]))\n",
        "  return edges\n",
        "\n",
        "def orderedcross(vertices, edges):\n",
        "  # Given a set of edges ordered in CCW order, removing an essential edge will change the sign of the\n",
        "  # product of pairwise cross products\n",
        "  m = len(edges)\n",
        "  sgn = 1\n",
        "  for eind in range(m):\n",
        "    e1 = edges[eind % m]\n",
        "    e2 = edges[(eind + 1) % m]\n",
        "    v1 = vertices[e1[1], :]-vertices[e1[0], :]\n",
        "    v2 = vertices[e2[1], :]-vertices[e2[0], :]\n",
        "    v1p = np.array([v1[0], v1[1], 0.])\n",
        "    v2p = np.array([v2[0], v2[1], 0.])\n",
        "    sgnnew = np.sign(np.cross(v1p, v2p)[2])\n",
        "    if sgnnew == 0: # np.sign(0) is zero so we map it as a non-convex i.e. pi angle\n",
        "      sgnnew = -1\n",
        "    sgn *= sgnnew\n",
        "  return sgn\n",
        "\n",
        "def isessential(vertices, vind, edgeall, edgetocheck):\n",
        "  \n",
        "  try:\n",
        "    assert vind in edgetocheck\n",
        "  except AssertionError:\n",
        "    raise AssertionError('Edge not in vertex')\n",
        "\n",
        "  if edgetocheck[1] == vind:\n",
        "    edgetocheck = tuple(reversed(edgetocheck))\n",
        "\n",
        "  if isvertexconvex(vertices, vind):\n",
        "    return False\n",
        "\n",
        "  n = len(vertices)\n",
        "\n",
        "  egpol = edgesfromvertex(edgeall, vind) # All edges containing the polygon from the vertex\n",
        "  egord = ccw_order(vertices, vind, egpol) # Triangulated edges ordered in CCW order\n",
        "  sgn1 = orderedcross(vertices, egord)\n",
        "  egord.remove(edgetocheck)\n",
        "  sgn2 = orderedcross(vertices, egord)\n",
        "\n",
        "  return sgn1 != sgn2\n",
        "\n",
        "def hertel_mehlhorn(poly_ccwpoints):\n",
        "  trigs, edges, vertices, edgepoly = seidel_trig(simproom)\n",
        "  n = len(vertices)\n",
        "  edgeall = alledges(edges, edgepoly)\n",
        "\n",
        "  for edge in edges:\n",
        "    essflag = False\n",
        "    vinds = edge # vertices to be checked. If essential for either one of these vertices\n",
        "    for vind in vinds:\n",
        "      ess = isessential(vertices, vind, edgeall, edge)\n",
        "      essflag |= ess\n",
        "    if not essflag:\n",
        "      edges = edges.difference({edge})\n",
        "      edges = edges.difference({(edge[1], edge[0])})\n",
        "  return edges  "
      ],
      "metadata": {
        "id": "ptg2_E1CWBWj"
      },
      "execution_count": null,
      "outputs": []
    },
    {
      "cell_type": "markdown",
      "source": [
        "## **Testing code** ✅"
      ],
      "metadata": {
        "id": "i5c5BNXosb1f"
      }
    },
    {
      "cell_type": "markdown",
      "source": [
        "- Let us see if we can generate all edges and check for whether a given edge is essential"
      ],
      "metadata": {
        "id": "9ERxRSJusfSZ"
      }
    },
    {
      "cell_type": "code",
      "source": [
        "edgeall = alledges(edges, edgepoly)\n",
        "isessential(vertices, 7, edgeall, (7,10))\n",
        "isessential(vertices, 10, edgeall, (7,10))"
      ],
      "metadata": {
        "colab": {
          "base_uri": "https://localhost:8080/"
        },
        "id": "E18OxDb6onwL",
        "outputId": "ee8cfbb7-8d7b-4450-f9ac-b982a544ed3a"
      },
      "execution_count": null,
      "outputs": [
        {
          "output_type": "execute_result",
          "data": {
            "text/plain": [
              "False"
            ]
          },
          "metadata": {},
          "execution_count": 247
        }
      ]
    },
    {
      "cell_type": "markdown",
      "source": [
        "- Let us generate the simple room and check if our convex partitioning algorithm works."
      ],
      "metadata": {
        "id": "Cx0PNHgSsoiC"
      }
    },
    {
      "cell_type": "code",
      "source": [
        "simproom = np.array([[0,0], [3,0], [3,2], [4,2], [4,0], [5,0], [5,2], [7,2], [7,0], [12,0], [12,7], [7,7], [7,5], [3,5], [3, 7], [0,7]], dtype=float)\n",
        "trigs, edges, vertices, edgepoly = seidel_trig(simproom)\n",
        "partitionededges = hertel_mehlhorn(simproom)\n",
        "edgeall = alledges(partitionededges, edgepoly)\n",
        "for edge in edgeall:\n",
        "  plt.plot([vertices[edge[0],0], vertices[edge[1],0]], [vertices[edge[0],1], vertices[edge[1],1]])"
      ],
      "metadata": {
        "colab": {
          "base_uri": "https://localhost:8080/",
          "height": 265
        },
        "id": "xed-QyQxtPEp",
        "outputId": "12e9b50d-e9f5-4b3a-f5cc-5907bea24f0e"
      },
      "execution_count": null,
      "outputs": [
        {
          "output_type": "display_data",
          "data": {
            "text/plain": [
              "<Figure size 432x288 with 1 Axes>"
            ],
            "image/png": "[encoded data removed]"
          },
          "metadata": {
            "needs_background": "light"
          }
        }
      ]
    },
    {
      "cell_type": "markdown",
      "source": [
        "It does! Yay!"
      ],
      "metadata": {
        "id": "QwWc9oL7s0Ek"
      }
    },
    {
      "cell_type": "markdown",
      "source": [
        "# Algorithm $A^{*}$\n",
        "\n",
        "- We will use the ```shapely``` package here to make things a little easier.\n",
        "- The code below includes functions for converting a convex partition into a graph that can be used in path-finding.\n",
        "- The implementation and testing of the Algorithm $A^*$ is the programming assignment\n"
      ],
      "metadata": {
        "id": "AjOXZWWjlr3A"
      }
    },
    {
      "cell_type": "code",
      "source": [
        "# Triangulation is carried out in the convex hull and not within the polygon. \n",
        "# We will select triangles within the polygon\n",
        "def triangulate_within(polygon):\n",
        "    return [triangle for triangle in triangulate(polygon) if triangle.within(polygon)]\n",
        "\n",
        "def getgraph(points): # We are not doing any type-checking, which is not good!\n",
        "  polygon = Polygon(points)\n",
        "  # trig = triangulate(roompoly)\n",
        "  trig = triangulate_within(polygon)\n",
        "  print(trig[0])\n",
        "  vertices = []\n",
        "  edges = []\n",
        "  for ply in trig:\n",
        "    neighs = ply.intersection(trig)\n",
        "    cp1 = ply.centroid\n",
        "    vertices.append(cp1)\n",
        "    ln = len(neighs)\n",
        "    for ind in range(ln):\n",
        "      neig = neighs[ind]\n",
        "      # Two triangles are neighbours only when their intersection is a LineString\n",
        "      if type(neig) == LineString: \n",
        "        cp2 = trig[ind].centroid\n",
        "        edges.append(LineString([cp1, cp2])) # We are adding all edges twice so we will have to eliminate them at the end\n",
        "  # Eliminate the duplicates now\n",
        "  edgeiter = edges.copy()\n",
        "  for edge in edgeiter:\n",
        "    if len(np.where(edge.equals(edges)==True)[0]) > 1:\n",
        "      edges.remove(edge)\n",
        "  return vertices, edges\n",
        "\n",
        "def plotgraph(vertices, edges):\n",
        "  x, y = [], []\n",
        "  for v in vertices:\n",
        "    x.append(v.x)\n",
        "    y.append(v.y)\n",
        "  plt.scatter(np.array(x), np.array(y))\n",
        "  for e in edges:\n",
        "    plt.plot([e.coords[0][0], e.coords[1][0]], [e.coords[0][1], e.coords[1][1]], 'm')"
      ],
      "metadata": {
        "id": "XEka30HHyiZq"
      },
      "execution_count": null,
      "outputs": []
    },
    {
      "cell_type": "markdown",
      "source": [
        "## **Testing code** ✅"
      ],
      "metadata": {
        "id": "6YD8i1get47f"
      }
    },
    {
      "cell_type": "code",
      "source": [
        "v, e = getgraph(simproom)\n",
        "plotpoly(simproom, False)\n",
        "plotgraph(v, e)"
      ],
      "metadata": {
        "colab": {
          "base_uri": "https://localhost:8080/",
          "height": 336
        },
        "id": "iICjhhsi93sq",
        "outputId": "06e5d546-b940-4271-982d-74d8eec60cce"
      },
      "execution_count": null,
      "outputs": [
        {
          "output_type": "stream",
          "name": "stdout",
          "text": [
            "POLYGON ((0 7, 0 0, 3 2, 0 7))\n"
          ]
        },
        {
          "output_type": "stream",
          "name": "stderr",
          "text": [
            "/usr/local/lib/python3.8/dist-packages/shapely/set_operations.py:133: RuntimeWarning: invalid value encountered in intersection\n",
            "  return lib.intersection(a, b, **kwargs)\n"
          ]
        },
        {
          "output_type": "display_data",
          "data": {
            "text/plain": [
              "<Figure size 432x288 with 1 Axes>"
            ],
            "image/png": "[encoded data removed]"
          },
          "metadata": {
            "needs_background": "light"
          }
        }
      ]
    },
    {
      "cell_type": "markdown",
      "source": [
        "# Programming Assignment #4\n",
        "\n",
        "## **Spring 2023/24 Semester**\n",
        "\n",
        "Implement both Dijkstra and $A^*$ algorithms. Using the same input compare their computational efficiencies.\n",
        "\n",
        "1. Implement both of the algorithms\n",
        "2. Give both the same problem domains, converted to a graph with appropriate processing\n",
        "3. Run the algorithms multiple times for randomly selected start-end nodes and log the running time (e.g. 10 time for each randomly selected pair for 10 random selections)\n",
        "4. Plot the average running time and the dispersion of the running time. \n",
        "5. Comment on which algorithm works faster and why.\n",
        "\n",
        "**GRADING:**\n",
        "1. Algorithm implementation (40%):\n",
        "  - Dijkstra algorithm is correctly implemented (20%)\n",
        "  - $A^*$ algorithm is correctly implemented (20%)\n",
        "2. Problem domain conversion (20%):\n",
        "  - The input problem domain is converted to a graph with appropriate processing (20%)\n",
        "3. Algorithm comparison (30%):\n",
        "  - The algorithms are run multiple times for randomly selected start-end nodes (10%)\n",
        "  - The running time is correctly logged (10%)\n",
        "  - The average running time is plotted (5%)\n",
        "  - The dispersion of the running time is plotted (5%)\n",
        "4. Analysis (10%):\n",
        "  - The analysis includes a comment on which algorithm works faster (5%)\n",
        "  - The analysis includes a reason why the algorithm works faster (5%)\n",
        "\n",
        "**Notes:**\n",
        "1. You are free to use chatGPT for help. However, you should not use code generated by chatGPT directly and you should mention which part of the code is chatGPT in the comments. Your code will be checked for verbatim copying from chatGPT. \n",
        "2. You are not allowed to use external modules/libraries in your implementations except those already in the notebook, but you can use them for testing your code.\n",
        "3. You will upload your submission as a Python notebook to ODTUClass."
      ],
      "metadata": {
        "id": "JWf3PwLhtE46"
      }
    },
    {
      "cell_type": "markdown",
      "source": [
        "(c) Huseyin Hacihabiboglu, 2022-2023"
      ],
      "metadata": {
        "id": "f3muGwfItDKx"
      }
    }
  ]
}