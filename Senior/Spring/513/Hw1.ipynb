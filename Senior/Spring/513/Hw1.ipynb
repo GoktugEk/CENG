{
 "cells": [
  {
   "cell_type": "code",
   "execution_count": 51,
   "id": "f44b4672",
   "metadata": {},
   "outputs": [],
   "source": [
    "import numpy as np\n",
    "import matplotlib.pyplot as plt"
   ]
  },
  {
   "cell_type": "code",
   "execution_count": 92,
   "id": "d6e73f03",
   "metadata": {},
   "outputs": [],
   "source": [
    "def modulosum(x : int, y : int, m : int):\n",
    "    \"\"\" This is function is a copy from the example uploaded to odtuclass,\n",
    "        I only changed the assertions, and added type checking provided by python.\n",
    "    \"\"\"\n",
    "    assert (x >= 0 and y >= 0)\n",
    "    assert (x <= m-1 and y <= m-1)\n",
    "    \n",
    "    if (x <= m - 1 - y):\n",
    "        return x + y\n",
    "    else:\n",
    "        return x- (m - y)\n",
    "    \n",
    "def lcg2(mod : int, m : int, a : int, seed : int):\n",
    "    '''\n",
    "\n",
    "            Parameters:\n",
    "                    mod (int) : Modulo\n",
    "                    m (int) : Multiplier\n",
    "                    a (int) : Addition constant\n",
    "                    seed (int) : Initial value\n",
    "\n",
    "            Returns:\n",
    "                    res (int): Returns the generated next random number.\n",
    "    '''\n",
    "    assert (mod >= 1)\n",
    "    assert (0 <= m <= mod -1)\n",
    "    assert (0 <= a <= mod -1)\n",
    "    assert (0 <= seed <= mod -1)\n",
    "    \n",
    "    \n",
    "    q = mod // m\n",
    "    p = mod % m\n",
    "    \n",
    "    res = m * (seed % q) - p * (seed // q)\n",
    "\n",
    "    if res < 0:\n",
    "        res = res + mod\n",
    "    \n",
    "    res = modulosum(res,a,mod)\n",
    "    \n",
    "    return res\n",
    "    \n",
    "    \n",
    "    "
   ]
  },
  {
   "cell_type": "code",
   "execution_count": 57,
   "id": "522341eb",
   "metadata": {},
   "outputs": [],
   "source": [
    "# These two functions have been taken from the example code in the odtuclass.\n",
    "\n",
    "def lcgrandom(fun=lcg2, modulus=2**32-1, multiplier=367, increment=314, initval=1, num=1):\n",
    "    # Check conditions\n",
    "    assert(fun==lcg2)\n",
    "    randlist = []; # Create an empty list to populate\n",
    "    for ind in range(num):\n",
    "        val = fun(modulus, multiplier, increment, initval)\n",
    "        initval = val # Set the previous random number as the new seed\n",
    "        randlist.append(val) # Append to the list\n",
    "    return np.array(randlist)\n",
    "\n",
    "def spectraltest(modulus=256, multiplier=21, increment=11, startingval=0, num=512, t=2):\n",
    "    randlist = lcgrandom(lcg2, modulus, multiplier, increment, startingval, num)\n",
    "    x = randlist[0::2]\n",
    "    y = randlist[1::2]\n",
    "    plt.plot(x, y, 'b.')\n",
    "    plt.axis('square')\n",
    "    plt.axis('tight')\n",
    "    plt.show()\n",
    "    return 0"
   ]
  },
  {
   "cell_type": "code",
   "execution_count": 94,
   "id": "a7399aaa",
   "metadata": {},
   "outputs": [],
   "source": [
    "def randomwalk(n : int, mod : int = 2**32-1, m : int = 367, a : int = 314, init : int = 1):\n",
    "    ''' Walks through the random numbers as described in the homework. Uses lcg2 as number generator.\n",
    "    \n",
    "            Parameters:\n",
    "                    n (int) : Number of steps considered\n",
    "                    mod (int) : Modulo\n",
    "                    m (int) : Multiplier\n",
    "                    a (int) : Addition constant\n",
    "                    seed (int) : Initial value\n",
    "\n",
    "            Returns:\n",
    "                    res (list, int): Returns the step sequence and the final destination in a tuple.\n",
    "    '''\n",
    "    assert (n > 0)\n",
    "    \n",
    "    r = lcg2(mod, m, a, init) #assertions done inside\n",
    "    prev_r = r\n",
    "    \n",
    "    resultlist = []\n",
    "    \n",
    "    for i in range(n):\n",
    "        r = lcg2(mod, m, a, r)\n",
    "        \n",
    "        if r > prev_r: resultlist.append(1)\n",
    "        else: resultlist.append(-1)\n",
    "        \n",
    "        prev_r = r\n",
    "\n",
    "    return resultlist, sum(resultlist)"
   ]
  },
  {
   "cell_type": "code",
   "execution_count": 95,
   "id": "7c253762",
   "metadata": {},
   "outputs": [
    {
     "name": "stdout",
     "output_type": "stream",
     "text": [
      "Random Walk : [1, 1, 1, -1, 1, 1, -1, 1, 1, 1, -1, 1, -1, -1, -1, -1, 1, -1, 1, -1]\n",
      "Final Position : 2\n"
     ]
    },
    {
     "data": {
      "image/png": "[encoded data removed]",
      "text/plain": [
       "<Figure size 640x480 with 1 Axes>"
      ]
     },
     "metadata": {},
     "output_type": "display_data"
    },
    {
     "data": {
      "text/plain": [
       "0"
      ]
     },
     "execution_count": 95,
     "metadata": {},
     "output_type": "execute_result"
    }
   ],
   "source": [
    "# Testing the functions.\n",
    "\n",
    "ret, final = randomwalk(20)\n",
    "\n",
    "print(f\"Random Walk : {ret}\")\n",
    "print(f\"Final Position : {final}\")\n",
    "\n",
    "spectraltest()"
   ]
  },
  {
   "cell_type": "code",
   "execution_count": null,
   "id": "87998a97",
   "metadata": {},
   "outputs": [],
   "source": [
    "    "
   ]
  }
 ],
 "metadata": {
  "kernelspec": {
   "display_name": "Python 3 (ipykernel)",
   "language": "python",
   "name": "python3"
  },
  "language_info": {
   "codemirror_mode": {
    "name": "ipython",
    "version": 3
   },
   "file_extension": ".py",
   "mimetype": "text/x-python",
   "name": "python",
   "nbconvert_exporter": "python",
   "pygments_lexer": "ipython3",
   "version": "3.11.2"
  }
 },
 "nbformat": 4,
 "nbformat_minor": 5
}
