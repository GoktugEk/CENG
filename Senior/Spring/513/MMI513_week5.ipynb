{
  "cells": [
    {
      "cell_type": "markdown",
      "metadata": {
        "id": "wKpt45v7XWZx"
      },
      "source": [
        "# **Week 5: Tournaments**\n",
        "\n",
        "This notebook contains implementations of several tournament types, including \n",
        "\n",
        "- Rank Adjustment Tournaments (including Ladder, Hill-climbing, Pyramid) with initial rank adjustment \n",
        "- Single Elimination Tournaments (also including standard seeding, ordered standard seeding, and equitable seeding algorithms) \n",
        "- Scoring Tournaments\n",
        "\n"
      ]
    },
    {
      "cell_type": "markdown",
      "metadata": {
        "id": "uHIPkadoFCPJ"
      },
      "source": [
        "### Preamble\n",
        "\n",
        "- We will only need some functions from `numpy` and its submodules in this notebook."
      ]
    },
    {
      "cell_type": "code",
      "execution_count": null,
      "metadata": {
        "id": "ZJYH0hfABR0v"
      },
      "outputs": [],
      "source": [
        "import numpy as np"
      ]
    },
    {
      "cell_type": "markdown",
      "metadata": {
        "id": "Yks-j6vdTzYK"
      },
      "source": [
        "# Rank Adjustment Tournaments\n",
        "\n",
        "In *rank adjustment tournaments*, players are initially ranked based on their previous performance. Then, they play a number of matches against opponents with similar rankings, and their rankings are adjusted based on the results. This method is useful for situations where the rankings of the players are already established, but need to be updated based on recent performances. In this section, we will implement a Rank Adjustment Tournament in Python, where players are initially seeded based on their previous rankings, and then play matches against each other. The results of each match will be used to adjust the rankings of the players, and the final ranking will be determined based on the adjusted scores.\n"
      ]
    },
    {
      "cell_type": "markdown",
      "metadata": {
        "id": "vqap7mvxlZ5q"
      },
      "source": [
        "## Initial rank adjustment and Ladder tournament\n",
        "\n",
        "- Ladder tournaments are a popular format of competition in which players are ranked based on a series of head-to-head matches. The concept of a ladder tournament is simple: players are initially ranked in order, and they move up or down the ladder based on their performance in matches against other players.\n",
        "\n",
        "- In this section, we will implement a ladder tournament using Python. We will also discuss the initial ranking of players, which is an important aspect of ladder tournaments.\n",
        "\n",
        "- The code included in this subsection defines several functions that we will use to simulate a ladder tournament. These functions allow us to create unranked players, enumerate players in random order, rank players, set ranks, and simulate matches between players. We will use these functions to implement a ladder tournament and adjust player ranks based on match outcomes.\n",
        "\n",
        "\n",
        "- `unrankedplayers(n)`:\n",
        "  - Creates a list of n unranked players with the format `P<index>`.\n",
        "  - Returns a dictionary with two keys:\n",
        "    - \"P\": a list of player names.\n",
        "    - \"rnks\": a list of None values indicating that the players have not been ranked yet.\n",
        "- `enumeration(P)`:\n",
        "  - Randomly shuffles the order of the players in P.\n",
        "  - Returns a dictionary with two keys:\n",
        "    - \"P\": a shuffled list of player names.\n",
        "    - \"rnks\": a shuffled list of None values indicating that the players have not been ranked yet.\n",
        "- `rankeds(P, r)`:\n",
        "  - Filters the players in P who have a rank of r.\n",
        "  - Returns a dictionary with two keys:\n",
        "    - \"P\": a list of player names with rank r.\n",
        "    - \"rnks\": a list of rank r.\n",
        "- `setrank(P, index, r)`:\n",
        "  - Copies the dictionary P.\n",
        "  - Sets the rank of the player at index index to r.\n",
        "  - Returns the modified copy of P.\n",
        "- `match(p, q, thr, tieflag=True)`:\n",
        "  - Simulates a match between player p and player q with a threshold of thr (a number between 0 and 1).\n",
        "  - If tieflag is True, ties are allowed, otherwise, they are not.\n",
        "  - Returns the name of the winning player or `None` if there is a tie.\n",
        "- `ladder_match(P, p, q)`:\n",
        "  - Simulates a match between player p and player q using the match function.\n",
        "  - If q wins, swaps the ranks of p and q in P.\n",
        "  - Returns the modified dictionary P.\n",
        "- `initial_rank_adjustment(P, S)`:\n",
        "  - Copies the dictionary P and shuffles the order of the players using enumeration.\n",
        "  - Assigns the initial champion (rank 0) to the first `S[0]` players.\n",
        "  - For each subsequent rank r, simulates matches between the top players from rank r-1 to determine the players who will be assigned rank r.\n",
        "  - Returns the modified dictionary P."
      ]
    },
    {
      "cell_type": "code",
      "execution_count": 24,
      "metadata": {
        "id": "N4isfUxmH25a"
      },
      "outputs": [],
      "source": [
        "def unrankedplayers(n):\n",
        "    P = []\n",
        "    rnks = []\n",
        "    for ind in range(n):\n",
        "        P.append('P' + str(ind))\n",
        "        rnks.append(None)\n",
        "    return {'P': P, 'rnks': rnks}\n",
        "\n",
        "def enumeration(P):\n",
        "    lst = np.arange(len(P['P']))\n",
        "    order = np.random.permutation(lst)\n",
        "    M = lst[order]\n",
        "    return {'P':[P['P'][ind] for ind in order], 'rnks':[P['rnks'][ind] for ind in order]}\n",
        "\n",
        "def rankeds(P, r):\n",
        "    W = {'P':[], 'rnks':[]}\n",
        "    for ind in range(len(P['rnks'])):\n",
        "        if P['rnks'][ind] == r:\n",
        "            W['P'].append(P['P'][ind])\n",
        "            W['rnks'].append(P['rnks'][ind])\n",
        "    return W\n",
        "\n",
        "def setrank(P, index, r):\n",
        "    R = P.copy()\n",
        "    R['rnks'][index] = r\n",
        "    return R\n",
        "\n",
        "def match(p, q, thr, tieflag=True):\n",
        "    toss = np.random.rand(1)\n",
        "    upC = 1\n",
        "    downC = 1\n",
        "    if tieflag: # If Tie is allowed\n",
        "      upC = 1.1\n",
        "      downC = 0.9\n",
        "    if thr * downC < toss < thr * 1.1: # If the random number is around thr, result is a tie\n",
        "        result = None # Tie\n",
        "    elif toss > thr * upC:\n",
        "        result = p\n",
        "    else:\n",
        "        result = q\n",
        "    return result\n",
        "\n",
        "def ladder_match(P, p, q):\n",
        "    m = match(p, q, 0.5)\n",
        "    if m == None or m == p:\n",
        "        return P\n",
        "    else:\n",
        "        indp = P['P'].index(p)\n",
        "        indq = P['P'].index(q)\n",
        "        rankp = P['rnks'][indp]\n",
        "        rankq = P['rnks'][indq]\n",
        "        if rankq == None:\n",
        "            rankq = rankp\n",
        "        P['rnks'][indp] = rankq\n",
        "        P['rnks'][indq] = rankp\n",
        "        return P\n",
        "\n",
        "def initial_rank_adjustment(P, S):\n",
        "    assert len(P['P']) == sum(S)\n",
        "    m = len(S)\n",
        "    R = P.copy()\n",
        "    R = enumeration(R)\n",
        "    for ind in range(S[0]):\n",
        "        R['rnks'][ind] = 0 # The initial champion(s)\n",
        "    c =  S[0]\n",
        "\n",
        "    for rank in range(1, m):\n",
        "        W = rankeds(R, rank - 1) # The runners-up\n",
        "        Mp = enumeration(W)\n",
        "        for ind in range(S[rank]):\n",
        "            setrank(R, c + ind, rank)\n",
        "            jnd = ind % len(Mp['P'])\n",
        "            if Mp['rnks'][jnd] != rank:\n",
        "                R = ladder_match(R, Mp['P'][jnd], M['P'][c + ind])\n",
        "        c += S[rank]\n",
        "    return R"
      ]
    },
    {
      "cell_type": "markdown",
      "metadata": {
        "id": "VufelTwMH7e2"
      },
      "source": [
        "## Testing code ✅"
      ]
    },
    {
      "cell_type": "code",
      "execution_count": 25,
      "metadata": {
        "colab": {
          "base_uri": "https://localhost:8080/"
        },
        "id": "l5qRCNRu7-6V",
        "outputId": "c69a652a-d146-4f03-c2e3-7151822e2e96"
      },
      "outputs": [
        {
          "name": "stdout",
          "output_type": "stream",
          "text": [
            "{'P': ['P0', 'P1', 'P2', 'P3', 'P4', 'P5', 'P6', 'P7', 'P8', 'P9', 'P10'], 'rnks': [None, None, None, None, None, None, None, None, None, None, None]}\n",
            "{'P': ['P0', 'P1', 'P7', 'P8', 'P10', 'P2', 'P6', 'P9', 'P5', 'P3', 'P4'], 'rnks': [2, 1, 1, 2, 2, 0, 3, 3, 3, 3, 3]}\n"
          ]
        }
      ],
      "source": [
        "P = unrankedplayers(11)\n",
        "print(P)\n",
        "S = [1, 2, 3, 5] # Ranking structure: One champion, 2 second places, etc.\n",
        "\n",
        "R = initial_rank_adjustment(P, S)\n",
        "print(R)"
      ]
    },
    {
      "cell_type": "markdown",
      "metadata": {
        "id": "tuENvkY2lhp7"
      },
      "source": [
        "## Hill-climbing tournaments\n",
        "\n",
        "Hill Climbing Tournaments are a type of tournament where players are ranked based on their performance against other players of similar rank. In this tournament, players start at the bottom rank and climb up the ladder by winning matches against higher-ranked opponents. The players who win the most matches and climb the highest on the ladder are considered the winners.\n",
        "\n",
        "`hillclimbing(P)` function takes as input a dictionary `P` containing the players and their initial ranks, and returns a modified dictionary `R` containing the players and their final ranks, as well as a list of matches containing tuples of players who played against each other. The function works as follows:\n",
        "\n",
        "- First, the function initializes a list S containing the number of places for each rank, which is set to one for each rank since each rank has only one place in the Hill Climbing Tournament.\n",
        "- The function then uses the `initial_rank_adjustment` function to adjust the initial ranks of the players based on the `S` list.\n",
        "- The function then iterates over each rank, from the bottom to the top, and finds the opponent for the current player at that rank.\n",
        "- It then adds the match between the player and their opponent to the matches list.\n",
        "- The function then uses the `ladder_match` function to simulate the winner of the match and update the ladder accordingly.\n",
        "- Finally, the function returns the modified `R` dictionary and the list of matches that happened in the tournament."
      ]
    },
    {
      "cell_type": "code",
      "execution_count": null,
      "metadata": {
        "id": "PNV-WrPL8o_l"
      },
      "outputs": [],
      "source": [
        "def hillclimbing(P):\n",
        "  n = len(P['P'])\n",
        "  matches = []\n",
        "  S = list(np.ones(n, dtype=int)) # Each rank has only one place\n",
        "  R = initial_rank_adjustment(P,S)\n",
        "  c = rankeds(R, n - 1)\n",
        "  for rp in range(n-1):\n",
        "    r = n - 2 - rp # For each rank from the bottom to the top\n",
        "    opp = rankeds(R, r)\n",
        "    matches.append((opp['P'][0], c['P'][0]))\n",
        "    R = ladder_match(R, opp['P'][0], c['P'][0]) # Because each rank has only one place\n",
        "    c = rankeds(R, r)\n",
        "  return R, matches"
      ]
    },
    {
      "cell_type": "markdown",
      "metadata": {
        "id": "Y-zUuO86Mplg"
      },
      "source": [
        "## Testing code ✅"
      ]
    },
    {
      "cell_type": "code",
      "execution_count": null,
      "metadata": {
        "colab": {
          "base_uri": "https://localhost:8080/"
        },
        "id": "dfFvoqoym1Y8",
        "outputId": "8297e207-c31a-4ae4-97ae-dfa048cec26a"
      },
      "outputs": [
        {
          "name": "stdout",
          "output_type": "stream",
          "text": [
            "{'P': ['P4', 'P8', 'P5', 'P9', 'P10', 'P7', 'P6', 'P2', 'P3', 'P0', 'P1'], 'rnks': [1, 0, 3, 2, 4, 5, 6, 8, 7, 10, 9]}\n",
            "[('P0', 'P1'), ('P3', 'P1'), ('P2', 'P3'), ('P6', 'P3'), ('P7', 'P6'), ('P10', 'P7'), ('P9', 'P10'), ('P5', 'P9'), ('P8', 'P9'), ('P4', 'P8')]\n"
          ]
        }
      ],
      "source": [
        "R, matches = hillclimbing(P)\n",
        "print(R)\n",
        "print(matches)"
      ]
    },
    {
      "cell_type": "markdown",
      "metadata": {
        "id": "yLeTrRIv5duZ"
      },
      "source": [
        "## Pyramid Tournament\n",
        "\n",
        "Pyramid Tournaments are a type of ranking tournament that utilizes a pyramid structure to determine the overall winner. In this format, players are initially divided into groups of equal sizes, with the best player at the top of the pyramid and the rest of the players forming lower levels of the pyramid.\n",
        "\n",
        "Each level of the pyramid is a mini tournament, and the winner of each level proceeds to the next level of the pyramid. The last level of the pyramid determines the overall winner of the tournament. The advantage of this structure is that it allows players to compete against others of similar skill levels, making the tournament more fair and exciting.\n",
        "\n",
        "The Python code provided below is for the pyramid match function. This function is used to determine the winner of a match between two players in a Pyramid Tournament. The function takes in three arguments: the tournament data P, and the indices of the players p and q. The function checks whether the two players are eligible to play a match based on their ranks, and if so, conducts a match and updates the tournament data. If not, the function returns the tournament data unchanged.\n",
        "\n",
        "**NOTE:**\n",
        "Your professor is not proud about how he implemented `pyramid_match()`. This was due to combination of a lack of oversight. A much better approach might have been defining a `Player` class."
      ]
    },
    {
      "cell_type": "code",
      "execution_count": 135,
      "metadata": {
        "id": "UcPggnjWnC3j"
      },
      "outputs": [],
      "source": [
        "def pyramid_match(P, p, q):\n",
        "  \n",
        "  pi = P['P'].index('P'+str(p))\n",
        "  qi = P['P'].index('P'+str(q))\n",
        "\n",
        "  rank_p = P['rnks'][pi]\n",
        "  peerWinner_p = P['peerWinner'][pi]\n",
        "  rank_q = P['rnks'][qi]\n",
        "  peerWinner_q = P['peerWinner'][qi]\n",
        "\n",
        "  print((rank_p == rank_q) and (not peerWinner_q))\n",
        "  print((rank_p == rank_q - 1) and peerWinner_q)\n",
        "\n",
        "  if not ((rank_p == rank_q) and (not peerWinner_q)) | ((rank_p == rank_q - 1) and peerWinner_q):\n",
        "    print('No match was played! Ranks do not match the conditions for pyramid match!')\n",
        "    return P\n",
        "  \n",
        "  R = P.copy() # We copy the player dictionary first\n",
        "  R['P'].pop(pi)\n",
        "  R['P'].pop(qi)\n",
        "  R['rnks'].pop(pi)\n",
        "  R['rnks'].pop(qi)\n",
        "  R['peerWinner'].pop(pi)\n",
        "  R['peerWinner'].pop(qi)\n",
        "\n",
        "  print(R)\n",
        "\n",
        "  # We do not have the two players in our set of players now.\n",
        "  m = match(p, q, 0.5) # Let them compete\n",
        "  \n",
        "  if (rank_p == rank_q): # Peer match\n",
        "    if (((m == p) and (not peerWinner_p)) or (((m == q) or m == None) and peerWinner_p)):\n",
        "      pp = p\n",
        "      rank_pp = rank_p\n",
        "      peerWinner_pp = (m == p)\n",
        "    else:\n",
        "      pp = p\n",
        "      rank_pp = rank_p\n",
        "      peerWinner_pp = peerWinner_p\n",
        "    if (m == q):\n",
        "      qp = q\n",
        "      rank_qp = rank_q\n",
        "      peerWinner_qp = True\n",
        "    else:\n",
        "      qp = q\n",
        "      rank_qp = rank_q\n",
        "      peerWinner_qp = peerWinner_q\n",
        "\n",
        "    R['P'].append('P'+str(pp))\n",
        "    R['P'].append('P'+str(qp))\n",
        "    R['rnks'].append(rank_pp)\n",
        "    R['rnks'].append(rank_qp)\n",
        "    R['peerWinner'].append(peerWinner_pp)\n",
        "    R['peerWinner'].append(peerWinner_qp)\n",
        "    return R\n",
        "  else: # Rank challenge match\n",
        "    qp = q\n",
        "    rank_qp = rank_q\n",
        "    peerWinner_qp = False\n",
        "    if (m == p) or m == None:\n",
        "      R['P'].append('P'+str(p))\n",
        "      R['P'].append('P'+str(qp))\n",
        "      R['rnks'].append(rank_p)\n",
        "      R['rnks'].append(rank_qp)\n",
        "      R['peerWinner'].append(peerWinner_p)\n",
        "      R['peerWinner'].append(peerWinner_qp)\n",
        "      return R\n",
        "    else:\n",
        "      pp = p\n",
        "      peerWinner_pp = False\n",
        "      rank_pp = rank_q\n",
        "      rank_qp = rank_p \n",
        "      R['P'].append('P'+str(pp))\n",
        "      R['P'].append('P'+str(qp))\n",
        "      R['rnks'].append(rank_pp)\n",
        "      R['rnks'].append(rank_qp)\n",
        "      R['peerWinner'].append(peerWinner_pp)\n",
        "      R['peerWinner'].append(peerWinner_qp)\n",
        "      return R"
      ]
    },
    {
      "cell_type": "markdown",
      "metadata": {
        "id": "jQ_CGfaJW7At"
      },
      "source": [
        "## Testing code ✅"
      ]
    },
    {
      "cell_type": "code",
      "execution_count": 139,
      "metadata": {
        "colab": {
          "base_uri": "https://localhost:8080/"
        },
        "id": "f6vrnqsQ_M-3",
        "outputId": "6592fb24-c2e2-467f-de48-ea27af3c84e6"
      },
      "outputs": [
        {
          "name": "stdout",
          "output_type": "stream",
          "text": [
            "{'P': ['P4', 'P6', 'P7', 'P1', 'P8', 'P2', 'P9', 'P5', 'P3', 'P0', 'P10'], 'rnks': [1, 2, 1, 3, 2, 0, 2, 3, 3, 3, 3], 'peerWinner': [True, True, True, True, True, True, True, True, True, True, True]}\n"
          ]
        }
      ],
      "source": [
        "n = 11\n",
        "P = unrankedplayers(n)\n",
        "S = [1, 2, 3, 5]\n",
        "R = initial_rank_adjustment(P, S)\n",
        "# Appending the peerWinner field to R makes it into pyramid structure\n",
        "R['peerWinner'] = [True] * n \n",
        "print(R)"
      ]
    },
    {
      "cell_type": "code",
      "execution_count": 140,
      "metadata": {
        "colab": {
          "base_uri": "https://localhost:8080/"
        },
        "id": "8iqPmL33Bufr",
        "outputId": "98fd99a4-c4f4-4433-cf04-bf490370aba1"
      },
      "outputs": [
        {
          "name": "stdout",
          "output_type": "stream",
          "text": [
            "False\n",
            "True\n",
            "{'P': ['P6', 'P1', 'P8', 'P2', 'P9', 'P5', 'P3', 'P0', 'P10'], 'rnks': [2, 3, 2, 0, 2, 3, 3, 3, 3], 'peerWinner': [True, True, True, True, True, True, True, True, True]}\n",
            "{'P': ['P6', 'P1', 'P8', 'P2', 'P9', 'P5', 'P3', 'P0', 'P10', 'P4', 'P6'], 'rnks': [2, 3, 2, 0, 2, 3, 3, 3, 3, 2, 1], 'peerWinner': [True, True, True, True, True, True, True, True, True, False, False]}\n"
          ]
        }
      ],
      "source": [
        "R = pyramid_match(R, 4, 6)\n",
        "print(R)"
      ]
    },
    {
      "cell_type": "markdown",
      "metadata": {
        "id": "slv90ehpjlQR"
      },
      "source": [
        "##Elimination Tournaments\n",
        "\n",
        "Another type of tournament commonly used in competitions is the elimination tournament. In an elimination tournament, players are eliminated after losing one or more matches, until only one player remains as the winner. "
      ]
    },
    {
      "cell_type": "markdown",
      "metadata": {
        "id": "C8RVlf-Ijr2z"
      },
      "source": [
        "### Random Selection Tournament\n",
        "\n",
        "`randomselectiontournament(P, W)` selects a player randomly from the set of players `P` with probabilities proportional to the weight vector `W`. \n",
        "- The weight vector `W` is updated in the `randompairingtournament` function.\n",
        "- The function `randompairingtournament(P)` implements the random pairing elimination tournament. \n",
        "  - It first enumerates the players in `P`, generates random pairings for each round, and updates the weight vector `W` based on the results of the matches. Finally, it selects a player randomly from the remaining players using the `randomselectiontournament` function."
      ]
    },
    {
      "cell_type": "code",
      "execution_count": null,
      "metadata": {
        "id": "yzcrbJk9MtES"
      },
      "outputs": [],
      "source": [
        "def randomselectiontournament(P, W):\n",
        "  p = np.array(W)/np.sum(W)\n",
        "  R = P.copy()\n",
        "  k = np.random.choice(len(P['P']), 1, list(p))\n",
        "  kind = k[0]\n",
        "  indk = R['P'].index('P'+ str(kind))\n",
        "  R['rnks'] = [1] * len(R['rnks'])\n",
        "  R['rnks'][kind] = 0\n",
        "  return R\n",
        "\n",
        "def randompairingtournament(P):\n",
        "  n = len(P['P'])\n",
        "  W = [0] * n\n",
        "  M = enumeration(P)\n",
        "  for ind in range( n//2 -1 ):\n",
        "    m = match(2 * ind, 2 * ind +1, 0.5)\n",
        "    if m == None:\n",
        "      m = 2 * ind\n",
        "    W[m] = 1\n",
        "  R = randomselectiontournament(M, W)\n",
        "  return R"
      ]
    },
    {
      "cell_type": "markdown",
      "metadata": {
        "id": "2N9pL38a7BQR"
      },
      "source": [
        "## Testing Code ✅"
      ]
    },
    {
      "cell_type": "code",
      "execution_count": null,
      "metadata": {
        "colab": {
          "base_uri": "https://localhost:8080/"
        },
        "id": "EBATuuIRc_8p",
        "outputId": "5eef1c3e-8826-4a38-f563-a9b18ee9917a"
      },
      "outputs": [
        {
          "name": "stdout",
          "output_type": "stream",
          "text": [
            "Random Selection Tournament\n",
            "\n",
            "{'P': ['P0', 'P1', 'P2', 'P3', 'P4', 'P5', 'P6', 'P7', 'P8', 'P9', 'P10'], 'rnks': [1, 0, 1, 1, 1, 1, 1, 1, 1, 1, 1]}\n",
            "\n",
            "\n",
            "Random Pairing Tournament\n",
            "\n",
            "{'P': ['P0', 'P9', 'P7', 'P2', 'P3', 'P8', 'P4', 'P10', 'P5', 'P1', 'P6'], 'rnks': [1, 1, 1, 1, 1, 1, 0, 1, 1, 1, 1]}\n"
          ]
        }
      ],
      "source": [
        "P = unrankedplayers(11)\n",
        "W = [1, 2, 3, 4, 5, 6, 5, 4, 3, 2, 1]\n",
        "R = randomselectiontournament(P, W)\n",
        "print('Random Selection Tournament\\n')\n",
        "print(R)\n",
        "print('\\n')\n",
        "P = unrankedplayers(11)\n",
        "print('Random Pairing Tournament\\n')\n",
        "R = randompairingtournament(P)\n",
        "print(R)"
      ]
    },
    {
      "cell_type": "markdown",
      "metadata": {
        "id": "RHq892d5iT80"
      },
      "source": [
        "## Single Elimination Tournament\n",
        "\n",
        "- Single elimination tournaments are one of the most common formats for competitive tournaments. In this format, each participant plays a single game or match against another participant. The winner of each match moves on to the next round, while the loser is eliminated from the tournament. This process is repeated until only one player remains, who is declared the winner of the tournament."
      ]
    },
    {
      "cell_type": "markdown",
      "metadata": {
        "id": "-2fhz6WktZGH"
      },
      "source": [
        "### Standard Seeding\n",
        "\n",
        "Standard seeding is a method used to determine the initial match-ups in a tournament based on the rankings of the participating teams or individuals. The seedings are usually determined by a ranking system that takes into account the performance or strength of each participant prior to the tournament. In a standard seeding, the highest-ranked participant is matched up with the lowest-ranked participant, the second-highest ranked participant is matched up with the second-lowest-ranked participant, and so on. This method is used to create a balanced and fair competition, ensuring that the strongest participants are not matched up against each other in the early stages of the tournament."
      ]
    },
    {
      "cell_type": "code",
      "execution_count": null,
      "metadata": {
        "id": "Ix-YdGLOhhsK"
      },
      "outputs": [],
      "source": [
        "def internalstandardseeding(R, np, alpha, omega):\n",
        "  if alpha == omega:\n",
        "    return R\n",
        "  if R['rnks'][alpha] == -1:\n",
        "    R['rnks'][alpha] = np - 1 - R['rnks'][omega]\n",
        "  else:\n",
        "    R['rnks'][omega] = np - 1 - R['rnks'][alpha]\n",
        "  mu = int((omega - alpha - 1) / 2)\n",
        "  R = internalstandardseeding(R, 2 * np, alpha, alpha + mu) # Bisect into two and work on each segment separately\n",
        "  R = internalstandardseeding(R, 2 * np, alpha + mu + 1, omega)\n",
        "  return R\n",
        "\n",
        "def standardseeding(n):\n",
        "  try:\n",
        "    assert n >= 2\n",
        "  except:\n",
        "    raise ValueError('n cannot be less than 2')\n",
        "\n",
        "  try:\n",
        "    assert np.log2(n) % 1 == 0\n",
        "  except:\n",
        "    raise ValueError('n should be a power of 2!')\n",
        "  R = unrankedplayers(n)\n",
        "  R['rnks'] = [-1] * n\n",
        "  R['rnks'][0] = 0\n",
        "  return internalstandardseeding(R, 2, 0, n - 1)"
      ]
    },
    {
      "cell_type": "markdown",
      "metadata": {
        "id": "t8r_XoXKnTlU"
      },
      "source": [
        "## Testing Code ✅"
      ]
    },
    {
      "cell_type": "code",
      "execution_count": null,
      "metadata": {
        "colab": {
          "base_uri": "https://localhost:8080/"
        },
        "id": "gpyk1M2XsHcR",
        "outputId": "a4ebbb9b-d5a4-40d9-96b1-4a896f81d4f4"
      },
      "outputs": [
        {
          "name": "stdout",
          "output_type": "stream",
          "text": [
            "{'P': ['P0', 'P1', 'P2', 'P3', 'P4', 'P5', 'P6', 'P7', 'P8', 'P9', 'P10', 'P11', 'P12', 'P13', 'P14', 'P15'], 'rnks': [0, 15, 8, 7, 4, 11, 12, 3, 2, 13, 10, 5, 6, 9, 14, 1]}\n"
          ]
        }
      ],
      "source": [
        "R = standardseeding(16)\n",
        "print(R)"
      ]
    },
    {
      "cell_type": "markdown",
      "metadata": {
        "id": "a7f8C5JZtc2R"
      },
      "source": [
        "### Ordered Standard Seeding\n",
        "\n",
        "In this method, the players or teams are ranked according to their past performance or a predetermined criterion. The highest-ranked player or team is seeded first, followed by the second-highest ranked player or team, and so on until all players or teams are seeded."
      ]
    },
    {
      "cell_type": "code",
      "execution_count": null,
      "metadata": {
        "id": "fcaIcJmKsSqy"
      },
      "outputs": [],
      "source": [
        "def internalorderedstandardseeding(R, np, alpha, omega):\n",
        "  if alpha == omega:\n",
        "    return R\n",
        "  mu = int((omega - alpha - 1) / 2)\n",
        "  R = internalorderedstandardseeding(R, 2 * np, alpha, alpha + mu)\n",
        "  R['rnks'][alpha + mu + 1] = np - 1 - R['rnks'][alpha]\n",
        "  R = internalorderedstandardseeding(R, 2 * np, alpha + mu + 1, omega)\n",
        "  return R\n",
        "\n",
        "def orderedstandardseeding(n):\n",
        "  try:\n",
        "    assert n >= 2\n",
        "  except:\n",
        "    raise ValueError('n cannot be less than 2')\n",
        "\n",
        "  try:\n",
        "    assert np.log2(n) % 1 == 0\n",
        "  except:\n",
        "    raise ValueError('n should be a power of 2!')\n",
        "  R = unrankedplayers(n)\n",
        "  R['rnks'][0] = 0\n",
        "  return internalorderedstandardseeding(R, 2, 0, n-1)"
      ]
    },
    {
      "cell_type": "code",
      "execution_count": null,
      "metadata": {
        "colab": {
          "base_uri": "https://localhost:8080/"
        },
        "id": "YCaLVd78tQYN",
        "outputId": "dfa85528-129d-4e45-e5c9-ed45026d18e0"
      },
      "outputs": [
        {
          "name": "stdout",
          "output_type": "stream",
          "text": [
            "{'P': ['P0', 'P1', 'P2', 'P3', 'P4', 'P5', 'P6', 'P7', 'P8', 'P9', 'P10', 'P11', 'P12', 'P13', 'P14', 'P15'], 'rnks': [0, 15, 7, 8, 3, 12, 4, 11, 1, 14, 6, 9, 2, 13, 5, 10]}\n"
          ]
        }
      ],
      "source": [
        "R = orderedstandardseeding(16)\n",
        "print(R) "
      ]
    },
    {
      "cell_type": "markdown",
      "metadata": {
        "id": "GVws4h0Nw7Rv"
      },
      "source": [
        "### Equitable Seeding\n",
        "\n",
        "Equitable seeding is a concept in tournament design that involves creating fair and balanced brackets by assigning initial seedings to competitors based on their relative strength or ability. The goal is to ensure that the strongest competitors do not face each other too early in the tournament, while also preventing weaker competitors from being immediately eliminated. Equitable seeding can help to increase the overall competitiveness of the tournament, as well as the perceived fairness of the results.\n",
        "\n"
      ]
    },
    {
      "cell_type": "code",
      "execution_count": 141,
      "metadata": {
        "id": "Coh8vZZEwkKN"
      },
      "outputs": [],
      "source": [
        "def bitreverse(x, w):\n",
        "  xbin = bin(x)[2:]\n",
        "  wl = len(xbin)\n",
        "  if wl < w:\n",
        "    xbin = '0' * (w-wl) + xbin # Concatenate as string\n",
        "  xrev = xbin[::-1] # Reverse ordering\n",
        "  # print(xbin, xrev)\n",
        "  return int('0b' + '0' * (32 - w) + xrev, 2) # Convert to integer\n",
        "\n",
        "def equitableseeding(n):\n",
        "  w = 1 + np.floor(np.log(n-1))\n",
        "  R = unrankedplayers(n)\n",
        "  for ind in range(n):\n",
        "    R['rnks'][ind] = bitreverse(ind, 4)\n",
        "  return R"
      ]
    },
    {
      "cell_type": "markdown",
      "metadata": {
        "id": "bcPj96iuoiPr"
      },
      "source": [
        "## Testing Code ✅"
      ]
    },
    {
      "cell_type": "code",
      "execution_count": null,
      "metadata": {
        "colab": {
          "base_uri": "https://localhost:8080/"
        },
        "id": "CpKE_4vmq-JD",
        "outputId": "b3f464bd-96df-4127-9606-4511b70b4d34"
      },
      "outputs": [
        {
          "name": "stdout",
          "output_type": "stream",
          "text": [
            "12\n",
            "{'P': ['P0', 'P1', 'P2', 'P3', 'P4', 'P5', 'P6', 'P7', 'P8', 'P9', 'P10', 'P11', 'P12', 'P13', 'P14', 'P15'], 'rnks': [0, 8, 4, 12, 2, 10, 6, 14, 1, 9, 5, 13, 3, 11, 7, 15]}\n"
          ]
        }
      ],
      "source": [
        "print(bitreverse(3, 4))\n",
        "R = equitableseeding(16)\n",
        "print(R)"
      ]
    },
    {
      "cell_type": "markdown",
      "metadata": {
        "id": "WlpXiJkNVmDZ"
      },
      "source": [
        "## Scoring Tournaments\n",
        "\n",
        "- A Round Robin tournament is a competition in which each participant plays against every other participant in the tournament. This means that if there are n participants, each participant plays n-1 matches. The matches are usually played in a fixed order or scheduled in advance so that there is no confusion."
      ]
    },
    {
      "cell_type": "code",
      "execution_count": null,
      "metadata": {
        "id": "sShB_hz-VkX4"
      },
      "outputs": [],
      "source": [
        "def roundrobin(r, n):\n",
        "  R = unrankedplayers(n)\n",
        "  R['P'][n-1] = 'P' + str(r)\n",
        "  np = n\n",
        "  if n % 2 == 0:\n",
        "    R['P'][n-2] = 'P' + str(n-1)\n",
        "    np = n - 1\n",
        "  for k in range(1, (np-1)//2 + 1):\n",
        "    ind = 2 * (k - 1)\n",
        "    R['P'][ind] = 'P' + str((r + k) % np)\n",
        "    R['P'][ind + 1] = 'P' + str((r + np - k) % np)\n",
        "  return R\n",
        "\n",
        "def pairings(R):\n",
        "  pairs = []\n",
        "  ln = len(R['P'])\n",
        "  resting = None\n",
        "  if ln % 2 == 1:\n",
        "    resting = R['P'][ln - 1]\n",
        "    ln -= 1\n",
        "  for ind in range(ln//2):\n",
        "    print(ln)\n",
        "    pairs.append((R['P'][2 * ind], R['P'][2 * ind + 1]))\n",
        "  return pairs, resting\n"
      ]
    },
    {
      "cell_type": "markdown",
      "metadata": {
        "id": "IMIxoAo_IGid"
      },
      "source": [
        "## Testing Code ✅"
      ]
    },
    {
      "cell_type": "code",
      "execution_count": null,
      "metadata": {
        "colab": {
          "base_uri": "https://localhost:8080/"
        },
        "id": "tGtvMdjNwfqd",
        "outputId": "4cb4d554-ff55-44b1-a25a-ea0cc24246ce"
      },
      "outputs": [
        {
          "name": "stdout",
          "output_type": "stream",
          "text": [
            "6\n",
            "6\n",
            "6\n",
            "([('P3', 'P1'), ('P4', 'P0'), ('P5', 'P6')], 'P2')\n"
          ]
        }
      ],
      "source": [
        "R = roundrobin(2, 7)\n",
        "print(pairings(R))"
      ]
    },
    {
      "cell_type": "markdown",
      "metadata": {
        "id": "ezhJV8lIpWgK"
      },
      "source": [
        "# **Programming Assignment #4**\n",
        "\n",
        "## Spring 2023/24 Semester\n",
        "\n",
        "1. Your professor, while looking back at how badly he implemented dictionary structure that holds the player data feels frustrated. He thinks it may just be much easier to implement a `Player` class with appropriate variables (`name`, `rank`, `peerWinner`), the getter and setter functions (`getrank`, `setrank` etc.) and perhaps other utilities like `copy` Your first task is to implement this class.\n",
        "\n",
        "2. You will then implement `unrankedplayers()`, `initialrankadjustment()` and `pyramidmatch()` functions.\n",
        "\n",
        "3. Finally, you will implement `kingofthehill()` tournament given on p. 112 (Algorithm 5.5) of Jouni and Smed.\n",
        "\n",
        "**GRADING:**\n",
        "- `Player` class is implemented (5/100)\n",
        "- `unrankedplayers()` using `Player` class (5/100)\n",
        "- `initialrankadjustment()` using `Player` class (5/100)\n",
        "- `pyramidmatch()` using the `Player` class (5/100)\n",
        "- `kingofthehill()` function works with default arguments (40/100)\n",
        "- Code carries out necessary checks on inputs via proper assertions (20/100)\n",
        "- Code is properly commented, explained and documented (20/100)\n",
        "\n",
        "\n",
        "**Notes:**\n",
        "\n",
        "- You are free to use chatGPT for help. However, you should not use code generated by chatGPT directly and you should mention which part of the code is chatGPT in the comments. Your code will be checked for verbatim copying from chatGPT.\n",
        "- You are not allowed to use external modules/libraries in your implementations except those already in the notebook, but you can use them for testing your code.\n",
        "- You will upload your submission as a Python notebook to ODTUClass."
      ]
    },
    {
      "cell_type": "markdown",
      "metadata": {
        "id": "yrJCkeTf02bA"
      },
      "source": [
        "(c) Huseyin Hacihabiboglu, 2022-2023"
      ]
    }
  ],
  "metadata": {
    "colab": {
      "provenance": []
    },
    "kernelspec": {
      "display_name": "Python 3",
      "name": "python3"
    },
    "language_info": {
      "name": "python"
    }
  },
  "nbformat": 4,
  "nbformat_minor": 0
}
